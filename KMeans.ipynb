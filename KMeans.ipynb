{
  "nbformat": 4,
  "nbformat_minor": 0,
  "metadata": {
    "colab": {
      "provenance": [],
      "authorship_tag": "ABX9TyOFbKntmk2/DrCsAl+Zo2i4",
      "include_colab_link": true
    },
    "kernelspec": {
      "name": "python3",
      "display_name": "Python 3"
    },
    "language_info": {
      "name": "python"
    }
  },
  "cells": [
    {
      "cell_type": "markdown",
      "metadata": {
        "id": "view-in-github",
        "colab_type": "text"
      },
      "source": [
        "<a href=\"https://colab.research.google.com/github/tejasri2005/Machine-Learning/blob/main/KMeans.ipynb\" target=\"_parent\"><img src=\"https://colab.research.google.com/assets/colab-badge.svg\" alt=\"Open In Colab\"/></a>"
      ]
    },
    {
      "cell_type": "code",
      "execution_count": 1,
      "metadata": {
        "colab": {
          "base_uri": "https://localhost:8080/"
        },
        "id": "RjGiuUPZg8Tt",
        "outputId": "cbaf178b-7c3f-434e-a2ba-8d8562890632"
      },
      "outputs": [
        {
          "output_type": "stream",
          "name": "stdout",
          "text": [
            "EM Algorithm Silhouette Score: 0.3225\n",
            "k-Means Silhouette Score: 0.3238\n",
            "\n",
            "Cluster Centers (k-Means):\n",
            "[[ 0.87183263  0.00792429 -0.87280812 -0.05675507 -0.85657001 -0.07991787]\n",
            " [-0.86028518 -0.00781933  0.86124774  0.05600335  0.84522472  0.07885935]]\n",
            "\n",
            "k-Means performed better based on the silhouette score.\n"
          ]
        }
      ],
      "source": [
        "import numpy as np\n",
        "import pandas as pd\n",
        "from sklearn.mixture import GaussianMixture\n",
        "from sklearn.cluster import KMeans\n",
        "from sklearn.preprocessing import StandardScaler\n",
        "from sklearn.metrics import silhouette_score\n",
        "from sklearn.datasets import make_classification\n",
        "\n",
        "# Simulating heart disease dataset (replace with actual dataset)\n",
        "X, _ = make_classification(n_samples=300, n_features=6, random_state=42)\n",
        "\n",
        "# Standardize the data\n",
        "scaler = StandardScaler()\n",
        "X_scaled = scaler.fit_transform(X)\n",
        "\n",
        "# Apply EM Algorithm (Gaussian Mixture Model)\n",
        "em = GaussianMixture(n_components=2, random_state=42)\n",
        "em_labels = em.fit_predict(X_scaled)\n",
        "\n",
        "# Apply k-Means Clustering\n",
        "kmeans = KMeans(n_clusters=2, random_state=42, n_init=10)\n",
        "kmeans_labels = kmeans.fit_predict(X_scaled)\n",
        "\n",
        "# Evaluate using Silhouette Score\n",
        "em_silhouette = silhouette_score(X_scaled, em_labels)\n",
        "kmeans_silhouette = silhouette_score(X_scaled, kmeans_labels)\n",
        "\n",
        "# Print Results\n",
        "print(f\"EM Algorithm Silhouette Score: {em_silhouette:.4f}\")\n",
        "print(f\"k-Means Silhouette Score: {kmeans_silhouette:.4f}\")\n",
        "\n",
        "print(\"\\nCluster Centers (k-Means):\")\n",
        "print(kmeans.cluster_centers_)\n",
        "\n",
        "# Compare Clustering Results\n",
        "if kmeans_silhouette > em_silhouette:\n",
        "    print(\"\\nk-Means performed better based on the silhouette score.\")\n",
        "else:\n",
        "    print(\"\\nEM Algorithm performed better based on the silhouette score.\")\n"
      ]
    }
  ]
}