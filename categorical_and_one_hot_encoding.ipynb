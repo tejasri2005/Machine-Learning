{
  "nbformat": 4,
  "nbformat_minor": 0,
  "metadata": {
    "colab": {
      "provenance": [],
      "authorship_tag": "ABX9TyOIuTkhs8r9WpQ7sgYX0qkC",
      "include_colab_link": true
    },
    "kernelspec": {
      "name": "python3",
      "display_name": "Python 3"
    },
    "language_info": {
      "name": "python"
    }
  },
  "cells": [
    {
      "cell_type": "markdown",
      "metadata": {
        "id": "view-in-github",
        "colab_type": "text"
      },
      "source": [
        "<a href=\"https://colab.research.google.com/github/tejasri2005/Machine-Learning/blob/main/categorical_and_one_hot_encoding.ipynb\" target=\"_parent\"><img src=\"https://colab.research.google.com/assets/colab-badge.svg\" alt=\"Open In Colab\"/></a>"
      ]
    },
    {
      "cell_type": "code",
      "execution_count": null,
      "metadata": {
        "colab": {
          "base_uri": "https://localhost:8080/"
        },
        "id": "znGrW9rhavNe",
        "outputId": "6090f131-7b58-4fc6-9820-02d62f6f13f8"
      },
      "outputs": [
        {
          "output_type": "stream",
          "name": "stdout",
          "text": [
            "Original Dataset:\n",
            "    Name         City  Gender\n",
            "0   John     New York    Male\n",
            "1  Alice  Los Angeles  Female\n",
            "2    Bob     New York    Male\n",
            "3   Mary      Chicago  Female\n",
            "\n",
            "Encoded Dataset using One-Hot Encoding:\n",
            "    Name  City_Chicago  City_Los Angeles  City_New York  Gender_Female  \\\n",
            "0   John         False             False           True          False   \n",
            "1  Alice         False              True          False           True   \n",
            "2    Bob         False             False           True          False   \n",
            "3   Mary          True             False          False           True   \n",
            "\n",
            "   Gender_Male  \n",
            "0         True  \n",
            "1        False  \n",
            "2         True  \n",
            "3        False  \n",
            "\n",
            "Encoded Dataset Saved Successfully.\n"
          ]
        }
      ],
      "source": [
        "# Import necessary libraries\n",
        "import pandas as pd\n",
        "\n",
        "# Step 1: Read the dataset\n",
        "data = {\n",
        "    'Name': ['John', 'Alice', 'Bob', 'Mary'],\n",
        "    'City': ['New York', 'Los Angeles', 'New York', 'Chicago'],\n",
        "    'Gender': ['Male', 'Female', 'Male', 'Female']\n",
        "}\n",
        "\n",
        "# Convert to DataFrame\n",
        "df = pd.DataFrame(data)\n",
        "\n",
        "# Display Original Dataset\n",
        "print(\"Original Dataset:\")\n",
        "print(df)\n",
        "\n",
        "# Step 2: Identify Categorical Variables\n",
        "categorical_cols = ['City', 'Gender']\n",
        "\n",
        "# Step 3 & 4: Apply One-Hot Encoding\n",
        "encoded_df = pd.get_dummies(df, columns=categorical_cols)\n",
        "\n",
        "# Step 5: Replace Original Categorical Variables\n",
        "print(\"\\nEncoded Dataset using One-Hot Encoding:\")\n",
        "print(encoded_df)\n",
        "\n",
        "# Optional: Save the Encoded Dataset to CSV\n",
        "encoded_df.to_csv(\"Encoded_Dataset.csv\", index=False)\n",
        "print(\"\\nEncoded Dataset Saved Successfully.\")\n"
      ]
    }
  ]
}