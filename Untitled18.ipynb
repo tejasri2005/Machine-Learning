{
  "nbformat": 4,
  "nbformat_minor": 0,
  "metadata": {
    "colab": {
      "provenance": [],
      "authorship_tag": "ABX9TyMkPJIsiPBLgIaWvYsFTglb",
      "include_colab_link": true
    },
    "kernelspec": {
      "name": "python3",
      "display_name": "Python 3"
    },
    "language_info": {
      "name": "python"
    }
  },
  "cells": [
    {
      "cell_type": "markdown",
      "metadata": {
        "id": "view-in-github",
        "colab_type": "text"
      },
      "source": [
        "<a href=\"https://colab.research.google.com/github/tejasri2005/Machine-Learning/blob/main/Untitled18.ipynb\" target=\"_parent\"><img src=\"https://colab.research.google.com/assets/colab-badge.svg\" alt=\"Open In Colab\"/></a>"
      ]
    },
    {
      "cell_type": "code",
      "execution_count": null,
      "metadata": {
        "colab": {
          "base_uri": "https://localhost:8080/"
        },
        "id": "Js1ZkhvksJCw",
        "outputId": "355d2083-ac2d-4477-e37d-0d99f30f40fc"
      },
      "outputs": [
        {
          "output_type": "stream",
          "name": "stdout",
          "text": [
            "Epoch 0, Loss: 0.2542260454115175\n",
            "Epoch 1000, Loss: 0.02484006075222649\n",
            "Epoch 2000, Loss: 0.0059064925861675366\n",
            "Epoch 3000, Loss: 0.0030220662108436016\n",
            "Epoch 4000, Loss: 0.0019352986515852964\n",
            "Epoch 5000, Loss: 0.0013912145261926081\n",
            "Epoch 6000, Loss: 0.0010737675782689273\n",
            "Epoch 7000, Loss: 0.0008691597509494027\n",
            "Epoch 8000, Loss: 0.0007276750042067489\n",
            "Epoch 9000, Loss: 0.0006246112453061279\n",
            "Predictions:\n",
            "[[0.02497956]\n",
            " [0.97674245]\n",
            " [0.9765297 ]\n",
            " [0.02168346]]\n"
          ]
        }
      ],
      "source": [
        "import numpy as np\n",
        "\n",
        "# Sigmoid activation function\n",
        "def sigmoid(x):\n",
        "    return 1 / (1 + np.exp(-x))\n",
        "\n",
        "def sigmoid_derivative(x):\n",
        "    return x * (1 - x)\n",
        "\n",
        "# Improved Neural Network with a hidden layer\n",
        "class ImprovedNN:\n",
        "    def __init__(self, input_size=2, hidden_size=4, output_size=1, learning_rate=0.5):\n",
        "        self.learning_rate = learning_rate\n",
        "        self.weights_input_hidden = np.random.uniform(-1, 1, (input_size, hidden_size))\n",
        "        self.weights_hidden_output = np.random.uniform(-1, 1, (hidden_size, output_size))\n",
        "\n",
        "    def forward_propagation(self, inputs):\n",
        "        self.hidden_input = np.dot(inputs, self.weights_input_hidden)\n",
        "        self.hidden_output = sigmoid(self.hidden_input)\n",
        "        self.final_input = np.dot(self.hidden_output, self.weights_hidden_output)\n",
        "        self.final_output = sigmoid(self.final_input)\n",
        "        return self.final_output\n",
        "\n",
        "    def backward_propagation(self, inputs, actual_output, predicted_output):\n",
        "        error = actual_output - predicted_output\n",
        "        output_delta = error * sigmoid_derivative(predicted_output)\n",
        "        hidden_error = output_delta.dot(self.weights_hidden_output.T)\n",
        "        hidden_delta = hidden_error * sigmoid_derivative(self.hidden_output)\n",
        "\n",
        "        self.weights_hidden_output += self.hidden_output.T.dot(output_delta) * self.learning_rate\n",
        "        self.weights_input_hidden += inputs.T.dot(hidden_delta) * self.learning_rate\n",
        "\n",
        "    def train(self, inputs, outputs, epochs=10000):\n",
        "        for epoch in range(epochs):\n",
        "            predicted_output = self.forward_propagation(inputs)\n",
        "            self.backward_propagation(inputs, outputs, predicted_output)\n",
        "            if epoch % 1000 == 0:\n",
        "                loss = np.mean(np.square(outputs - predicted_output))\n",
        "                print(f\"Epoch {epoch}, Loss: {loss}\")\n",
        "\n",
        "    def predict(self, inputs):\n",
        "        return self.forward_propagation(inputs)\n",
        "\n",
        "# Sample dataset (XOR problem)\n",
        "inputs = np.array([[0, 0], [0, 1], [1, 0], [1, 1]])\n",
        "outputs = np.array([[0], [1], [1], [0]])\n",
        "\n",
        "# Train and test the improved neural network\n",
        "nn = ImprovedNN()\n",
        "nn.train(inputs, outputs, epochs=10000)\n",
        "\n",
        "print(\"Predictions:\")\n",
        "print(nn.predict(inputs))\n"
      ]
    }
  ]
}