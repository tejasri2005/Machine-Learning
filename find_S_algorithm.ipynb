{
  "nbformat": 4,
  "nbformat_minor": 0,
  "metadata": {
    "colab": {
      "provenance": [],
      "authorship_tag": "ABX9TyNR8ZR5WZT20pJXNyUqTmUM",
      "include_colab_link": true
    },
    "kernelspec": {
      "name": "python3",
      "display_name": "Python 3"
    },
    "language_info": {
      "name": "python"
    }
  },
  "cells": [
    {
      "cell_type": "markdown",
      "metadata": {
        "id": "view-in-github",
        "colab_type": "text"
      },
      "source": [
        "<a href=\"https://colab.research.google.com/github/tejasri2005/Machine-Learning/blob/main/find_S_algorithm.ipynb\" target=\"_parent\"><img src=\"https://colab.research.google.com/assets/colab-badge.svg\" alt=\"Open In Colab\"/></a>"
      ]
    },
    {
      "cell_type": "code",
      "execution_count": null,
      "metadata": {
        "colab": {
          "base_uri": "https://localhost:8080/"
        },
        "id": "t3lDAcW3vWvD",
        "outputId": "11b9b61a-24cf-4f22-f43d-372bf92d432b"
      },
      "outputs": [
        {
          "output_type": "stream",
          "name": "stdout",
          "text": [
            "     Sky AirTemp Humidity    Wind Water Forecast EnjoySport\n",
            "0  Sunny    Warm   Normal  Strong  Warm     Same        yes\n",
            "1  Sunny    Warm     High  Strong  Warm     Same        yes\n",
            "2  Rainy    Cold     High  Strong  Warm   Change         no\n",
            "3  Sunny    Warm     High  Strong  Cool   Change        yes\n"
          ]
        }
      ],
      "source": [
        "import pandas as pd\n",
        "import numpy as np\n",
        "data = pd.read_csv('ENJOYSPORT.csv')\n",
        "print(data)"
      ]
    },
    {
      "cell_type": "code",
      "source": [
        "concepts = np.array(data)[:,:-1]\n",
        "print(concepts)"
      ],
      "metadata": {
        "colab": {
          "base_uri": "https://localhost:8080/"
        },
        "id": "ZbFSTdnDxeBB",
        "outputId": "42efd5b4-3410-4882-8618-bc9af9c8bdc3"
      },
      "execution_count": null,
      "outputs": [
        {
          "output_type": "stream",
          "name": "stdout",
          "text": [
            "[['Sunny' 'Warm' 'Normal' 'Strong' 'Warm' 'Same']\n",
            " ['Sunny' 'Warm' 'High' 'Strong' 'Warm' 'Same']\n",
            " ['Rainy' 'Cold' 'High' 'Strong' 'Warm' 'Change']\n",
            " ['Sunny' 'Warm' 'High' 'Strong' 'Cool' 'Change']]\n"
          ]
        }
      ]
    },
    {
      "cell_type": "code",
      "source": [
        "target = np.array(data)[:,-1]\n",
        "print(target)"
      ],
      "metadata": {
        "colab": {
          "base_uri": "https://localhost:8080/"
        },
        "id": "h7EdANqxxryW",
        "outputId": "994d8ea8-f6b1-45ae-86c4-718de5fed78a"
      },
      "execution_count": null,
      "outputs": [
        {
          "output_type": "stream",
          "name": "stdout",
          "text": [
            "['yes' 'yes' 'no' 'yes']\n"
          ]
        }
      ]
    },
    {
      "cell_type": "code",
      "source": [
        "\n",
        "\n",
        "def train(con, tar):\n",
        "  for i, val in enumerate(tar):\n",
        "      if val == 'yes':\n",
        "          specific_h = con[i].copy()\n",
        "          break\n",
        "  return specific_h"
      ],
      "metadata": {
        "id": "SdF2a1Sbx8Bf"
      },
      "execution_count": null,
      "outputs": []
    },
    {
      "cell_type": "code",
      "source": [
        "print(train(concepts, target))"
      ],
      "metadata": {
        "colab": {
          "base_uri": "https://localhost:8080/"
        },
        "id": "xUlwsoehzf-m",
        "outputId": "81508239-5432-4d10-a265-456fbefd75cf"
      },
      "execution_count": null,
      "outputs": [
        {
          "output_type": "stream",
          "name": "stdout",
          "text": [
            "['Sunny' 'Warm' 'Normal' 'Strong' 'Warm' 'Same']\n"
          ]
        }
      ]
    }
  ]
}