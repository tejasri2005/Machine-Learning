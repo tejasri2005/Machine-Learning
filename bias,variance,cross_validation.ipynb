{
  "nbformat": 4,
  "nbformat_minor": 0,
  "metadata": {
    "colab": {
      "provenance": [],
      "authorship_tag": "ABX9TyN3uwX7u7xZSmdqe5lTIEYN",
      "include_colab_link": true
    },
    "kernelspec": {
      "name": "python3",
      "display_name": "Python 3"
    },
    "language_info": {
      "name": "python"
    }
  },
  "cells": [
    {
      "cell_type": "markdown",
      "metadata": {
        "id": "view-in-github",
        "colab_type": "text"
      },
      "source": [
        "<a href=\"https://colab.research.google.com/github/tejasri2005/Machine-Learning/blob/main/bias%2Cvariance%2Ccross_validation.ipynb\" target=\"_parent\"><img src=\"https://colab.research.google.com/assets/colab-badge.svg\" alt=\"Open In Colab\"/></a>"
      ]
    },
    {
      "cell_type": "code",
      "execution_count": null,
      "metadata": {
        "colab": {
          "base_uri": "https://localhost:8080/"
        },
        "id": "6CoNuLeSLLmS",
        "outputId": "82bca1ab-a2b9-4765-df4c-73630cb6c889"
      },
      "outputs": [
        {
          "output_type": "stream",
          "name": "stdout",
          "text": [
            "Original Dataset:\n",
            "    Age  Salary  Purchased\n",
            "0   25   20000          0\n",
            "1   30   25000          1\n",
            "2   35   30000          0\n",
            "3   40   35000          1\n",
            "4   25   20000          0\n",
            "5   30   25000          1\n",
            "6   35   30000          0\n",
            "7   40   35000          1\n",
            "\n",
            "Dataset after Removing Duplicates:\n",
            "    Age  Salary  Purchased\n",
            "0   25   20000          0\n",
            "1   30   25000          1\n",
            "2   35   30000          0\n",
            "3   40   35000          1\n",
            "\n",
            "Bias (Training Error): 0.0\n",
            "Variance (Testing Error): 0.0\n",
            "\n",
            "Average Cross Validation Score (MSE): 0.5895691609977323\n"
          ]
        }
      ],
      "source": [
        "import pandas as pd\n",
        "import numpy as np\n",
        "from sklearn.model_selection import train_test_split, KFold, cross_val_score\n",
        "from sklearn.linear_model import LinearRegression\n",
        "from sklearn.metrics import mean_squared_error\n",
        "\n",
        "# Step 1: Read and Preprocess Dataset\n",
        "def load_dataset():\n",
        "    data = {\n",
        "        'Age': [25, 30, 35, 40, 25, 30, 35, 40],\n",
        "        'Salary': [20000, 25000, 30000, 35000, 20000, 25000, 30000, 35000],\n",
        "        'Purchased': [0, 1, 0, 1, 0, 1, 0, 1]\n",
        "    }\n",
        "    dataset = pd.DataFrame(data)\n",
        "    print(\"Original Dataset:\\n\", dataset)\n",
        "\n",
        "    # Remove Duplicates\n",
        "    dataset = dataset.drop_duplicates()\n",
        "    print(\"\\nDataset after Removing Duplicates:\\n\", dataset)\n",
        "    return dataset\n",
        "\n",
        "# Step 2: Bias and Variance Calculation\n",
        "def calculate_bias_variance(model, X_train, X_test, y_train, y_test):\n",
        "    model.fit(X_train, y_train)\n",
        "\n",
        "    # Training Predictions\n",
        "    y_train_pred = model.predict(X_train)\n",
        "    train_bias = np.mean((y_train - y_train_pred) ** 2)\n",
        "\n",
        "    # Testing Predictions\n",
        "    y_test_pred = model.predict(X_test)\n",
        "    variance = np.var(y_test_pred)\n",
        "\n",
        "    print(\"\\nBias (Training Error):\", train_bias)\n",
        "    print(\"Variance (Testing Error):\", variance)\n",
        "\n",
        "# Step 3: Cross Validation\n",
        "def perform_cross_validation(model, X, y):\n",
        "    folds = min(5, len(X))  # Use the minimum between 5 and dataset size\n",
        "    kf = KFold(n_splits=folds, shuffle=True, random_state=42)\n",
        "    scores = cross_val_score(model, X, y, cv=kf, scoring='neg_mean_squared_error')\n",
        "    avg_score = np.mean(scores) * -1\n",
        "    print(\"\\nAverage Cross Validation Score (MSE):\", avg_score)\n",
        "\n",
        "# Main Function\n",
        "if __name__ == \"__main__\":\n",
        "    # Load Dataset\n",
        "    dataset = load_dataset()\n",
        "\n",
        "    # Splitting Dataset\n",
        "    X = dataset[['Age', 'Salary']]\n",
        "    y = dataset['Purchased']\n",
        "\n",
        "    X_train, X_test, y_train, y_test = train_test_split(X, y, test_size=0.3, random_state=42)\n",
        "\n",
        "    # Model Selection\n",
        "    model = LinearRegression()\n",
        "\n",
        "    # Bias and Variance Calculation\n",
        "    calculate_bias_variance(model, X_train, X_test, y_train, y_test)\n",
        "\n",
        "    # Cross Validation\n",
        "    perform_cross_validation(model, X, y)\n"
      ]
    }
  ]
}